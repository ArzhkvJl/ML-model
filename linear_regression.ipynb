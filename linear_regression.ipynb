{
 "cells": [
  {
   "cell_type": "markdown",
   "metadata": {},
   "source": [
    "## Install all the nesessary libraries"
   ]
  },
  {
   "cell_type": "code",
   "execution_count": 1,
   "metadata": {},
   "outputs": [
    {
     "name": "stdout",
     "output_type": "stream",
     "text": [
      "\n",
      "\u001b[1m[\u001b[0m\u001b[34;49mnotice\u001b[0m\u001b[1;39;49m]\u001b[0m\u001b[39;49m A new release of pip is available: \u001b[0m\u001b[31;49m25.0.1\u001b[0m\u001b[39;49m -> \u001b[0m\u001b[32;49m25.1.1\u001b[0m\n",
      "\u001b[1m[\u001b[0m\u001b[34;49mnotice\u001b[0m\u001b[1;39;49m]\u001b[0m\u001b[39;49m To update, run: \u001b[0m\u001b[32;49mpip install --upgrade pip\u001b[0m\n",
      "Note: you may need to restart the kernel to use updated packages.\n"
     ]
    }
   ],
   "source": [
    "%pip -q install numpy pandas matplotlib scikit-learn "
   ]
  },
  {
   "cell_type": "markdown",
   "metadata": {},
   "source": [
    "## Import All the Required Libraries"
   ]
  },
  {
   "cell_type": "code",
   "execution_count": 2,
   "metadata": {},
   "outputs": [],
   "source": [
    "import numpy as np\n",
    "import matplotlib.pyplot as plt\n",
    "from sklearn.linear_model import LinearRegression\n",
    "import pandas as pd"
   ]
  },
  {
   "cell_type": "markdown",
   "metadata": {},
   "source": [
    "## Calculate prediction errors using Root Mean Squared Error"
   ]
  },
  {
   "cell_type": "code",
   "execution_count": 3,
   "metadata": {},
   "outputs": [],
   "source": [
    "def rmse(y_true, y_pred):\n",
    "    error = (y_true - y_pred) ** 2\n",
    "    return np.sqrt(np.mean(error))"
   ]
  },
  {
   "cell_type": "markdown",
   "metadata": {},
   "source": [
    "## Read the dataset"
   ]
  },
  {
   "cell_type": "code",
   "execution_count": 4,
   "metadata": {},
   "outputs": [
    {
     "name": "stdout",
     "output_type": "stream",
     "text": [
      "               x          y\n",
      "count  15.000000  15.000000\n",
      "mean    4.166667   8.266667\n",
      "std     0.585133   6.029294\n",
      "min     3.200000   1.000000\n",
      "25%     3.750000   3.500000\n",
      "50%     4.200000   6.000000\n",
      "75%     4.650000  12.500000\n",
      "max     5.000000  20.000000\n"
     ]
    }
   ],
   "source": [
    "# Path of the file to read\n",
    "csv_file_path = 'xy_dataset.csv'\n",
    "\n",
    "# Read the file into a DataFrame\n",
    "student_data = pd.read_csv(csv_file_path)\n",
    "\n",
    "# Print summary statistics of the dataset\n",
    "print(student_data.describe())\n",
    "\n",
    "# Extract academic performance (feature) and time to first job (target)\n",
    "academic_performance = student_data['x'].values.reshape((-1, 1))  # e.g., GPA or exam score\n",
    "months_to_first_job = student_data['y'].values  # months to first job after graduation"
   ]
  },
  {
   "cell_type": "markdown",
   "metadata": {},
   "source": [
    "## Train the model using Linear Regression\n",
    "\n",
    "The coefficient of determination shows how close the model values ​​are to the actual values. A higher coefficient value indicates a better fit, i.e. the model can better explain the variation in output given different inputs.\n",
    "\n",
    "A coefficient value of 1 is a perfect fit, since the predicted and actual output values ​​exactly match."
   ]
  },
  {
   "cell_type": "code",
   "execution_count": 5,
   "metadata": {},
   "outputs": [
    {
     "name": "stdout",
     "output_type": "stream",
     "text": [
      "coefficient of determination: 0.035964299235212716\n",
      "intercept: 16.408762169680102\n",
      "slope: [-1.95410292]\n",
      "predicted response:\n",
      "[ 6.63824757  6.83365786  8.98317107  8.2015299   7.02906815  9.17858136\n",
      "  7.41988873  8.00611961  8.78776078  8.39694019  7.22447844 10.15563282\n",
      "  9.56940195  9.96022253  7.61529903]\n"
     ]
    }
   ],
   "source": [
    "# Fit linear regression model\n",
    "model = LinearRegression().fit(academic_performance, months_to_first_job)\n",
    "coefficient_of_determination = model.score(academic_performance, months_to_first_job)\n",
    "print('coefficient of determination:', coefficient_of_determination)\n",
    "print('intercept:', model.intercept_)\n",
    "print('slope:', model.coef_)\n",
    "\n",
    "# Predict the response\n",
    "predicted_months = model.predict(academic_performance)\n",
    "print('predicted response:', predicted_months, sep='\\n')"
   ]
  },
  {
   "cell_type": "markdown",
   "metadata": {},
   "source": [
    "## Show the representation of the trained model line"
   ]
  },
  {
   "cell_type": "code",
   "execution_count": 23,
   "metadata": {},
   "outputs": [
    {
     "data": {
      "text/plain": [
       "[<matplotlib.lines.Line2D at 0x169b27890>]"
      ]
     },
     "execution_count": 23,
     "metadata": {},
     "output_type": "execute_result"
    },
    {
     "data": {
      "image/png": "[encoded data removed]",
      "text/plain": [
       "<Figure size 640x480 with 1 Axes>"
      ]
     },
     "metadata": {},
     "output_type": "display_data"
    }
   ],
   "source": [
    "# Create a plot\n",
    "fig, ax = plt.subplots()\n",
    "\n",
    "# Plot the regression line and dataset points\n",
    "ax.scatter(academic_performance, months_to_first_job, color='firebrick', label='Student Data')\n",
    "ax.plot(academic_performance, predicted_months, color='darkcyan')\n",
    "\n",
    "plt.show()\n"
   ]
  },
  {
   "cell_type": "markdown",
   "metadata": {},
   "source": [
    "## Retrain the model\n",
    "Let's calculate the determination coefficient for the obtained model. It is critically close to 0, therefore the training was of poor quality and the forecasts obtained from such an algorithm are incorrect. Let's remove several elements from the sample. Let's assume that a good program has a determination coefficient greater than 0.5. Then the cycle will filter the values ​​in the sample. The error is estimated using the standard deviation formula. After retraining, the model has a higher quality significance coefficient."
   ]
  },
  {
   "cell_type": "code",
   "execution_count": 10,
   "metadata": {},
   "outputs": [
    {
     "name": "stdout",
     "output_type": "stream",
     "text": [
      "[[5. ]\n",
      " [3.8]\n",
      " [4.2]\n",
      " [4.8]\n",
      " [4.6]\n",
      " [4.3]\n",
      " [3.9]\n",
      " [4.1]\n",
      " [4.7]\n",
      " [3.2]\n",
      " [3.5]]\n",
      "[ 1  6  5  4  2  9 10  5  3 13 12]\n",
      "coefficient of determination: 0.787434029725849\n",
      "intercept: 33.16092943201377\n",
      "slope: [-6.39414802]\n"
     ]
    }
   ],
   "source": [
    "# Calculate RMSE for each data point\n",
    "errors = np.zeros((len(months_to_first_job), 1))\n",
    "\n",
    "\n",
    "for i in range(len(months_to_first_job)):\n",
    "    errors[i][0] = rmse(months_to_first_job[i], predicted_months[i])\n",
    "\n",
    "# Iteratively remove outliers until the model's R^2 is above 0.5\n",
    "while coefficient_of_determination <= 0.5:\n",
    "    error_ind = np.argmax(errors)\n",
    "    academic_performance = np.delete(academic_performance, error_ind).reshape((-1, 1))\n",
    "    months_to_first_job = np.delete(months_to_first_job, error_ind)\n",
    "    errors = np.delete(errors, error_ind)\n",
    "    model = LinearRegression().fit(academic_performance, months_to_first_job)\n",
    "    coefficient_of_determination = model.score(academic_performance, months_to_first_job)\n",
    "\n",
    "# Final prediction and plot after outlier removal\n",
    "predicted_months = model.predict(academic_performance)\n",
    "\n",
    "print(academic_performance)\n",
    "print(months_to_first_job)\n",
    "\n",
    "coefficient_of_determination = model.score(academic_performance, months_to_first_job)\n",
    "print('coefficient of determination:', coefficient_of_determination)\n",
    "print('intercept:', model.intercept_)\n",
    "print('slope:', model.coef_)\n"
   ]
  },
  {
   "cell_type": "code",
   "execution_count": 21,
   "metadata": {},
   "outputs": [],
   "source": [
    "ax.set_xlabel('Academic Performance (e.g., GPA)')\n",
    "ax.set_ylabel('Months to First Job')\n",
    "ax.set_title('Predicting Time to First Job Based on Academic Performance')\n",
    "ax.legend()\n",
    "ax.scatter(academic_performance, months_to_first_job, color='firebrick', label='Student Data')\n",
    "ax.plot(academic_performance, predicted_months, color='b', label='Regression Line')\n",
    "plt.show()"
   ]
  },
  {
   "cell_type": "code",
   "execution_count": null,
   "metadata": {},
   "outputs": [],
   "source": [
    "# Example: Predict time to first job for new academic performance values\n",
    "new_academic_performance = np.arange(5).reshape((-1, 1))\n",
    "print(new_academic_performance)\n",
    "new_predicted_months = model.predict(new_academic_performance)\n",
    "print(new_predicted_months)"
   ]
  }
 ],
 "metadata": {
  "kernelspec": {
   "display_name": "Python 3",
   "language": "python",
   "name": "python3"
  },
  "language_info": {
   "codemirror_mode": {
    "name": "ipython",
    "version": 3
   },
   "file_extension": ".py",
   "mimetype": "text/x-python",
   "name": "python",
   "nbconvert_exporter": "python",
   "pygments_lexer": "ipython3",
   "version": "3.12.0"
  }
 },
 "nbformat": 4,
 "nbformat_minor": 2
}
